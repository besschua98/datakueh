{
 "cells": [
  {
   "cell_type": "markdown",
   "metadata": {},
   "source": [
    "### This notebook covers data scraping, cleaning, processing and updating of the [Public Places Visited by Singapore Covid-19 Cases dataset](https://data.world/hxchua/public-places-visited-in-singapore-by-covid-19-cases).\n",
    "\n",
    "It updates the dataset by comparing the previous day's PDF with the current day's, and adding the newly added places to the existing dataset. \n",
    "\n",
    "Steps to run:\n",
    "1. Update `date` (This day is used to compare with the previous day to find newly added places. The default date is yesterday.)\n",
    "\n",
    "Additional steps if you want to update a Google Sheet:\n",
    "1. Start a Google Cloud Platform Project. Get/download the service account credentials, copy the downloaded json into the same directory as this file and update the `KEYS_FILE` variable with the json name.\n",
    "2. Update Config for Google Sheets\n",
    "3. Set `update_google_sheets` to True"
   ]
  },
  {
   "cell_type": "markdown",
   "metadata": {},
   "source": [
    "## Import required packages"
   ]
  },
  {
   "cell_type": "code",
   "execution_count": 1,
   "metadata": {},
   "outputs": [],
   "source": [
    "import sys\n",
    "from bs4 import BeautifulSoup\n",
    "import requests\n",
    "import urllib3\n",
    "import io\n",
    "import pandas as pd\n",
    "from datetime import datetime, timedelta\n",
    "import re\n",
    "from google.oauth2.service_account import Credentials\n",
    "\n",
    "try: \n",
    "    import gspread\n",
    "except ModuleNotFoundError:\n",
    "    !{sys.executable} -m pip install gspread\n",
    "    import gspread\n",
    "    \n",
    "try: \n",
    "    import pdfplumber\n",
    "except ModuleNotFoundError:\n",
    "    !{sys.executable} -m pip install pdfplumber    \n",
    "    import pdfplumber"
   ]
  },
  {
   "cell_type": "markdown",
   "metadata": {},
   "source": [
    "## Options"
   ]
  },
  {
   "cell_type": "code",
   "execution_count": 2,
   "metadata": {},
   "outputs": [],
   "source": [
    "date = (datetime.today()- timedelta(days=1)).strftime(\"%d %b %Y\")\n",
    "# date = \"25 Jun 2021\"\n",
    "update_google_sheets = False # if True, will update Google Sheet directly"
   ]
  },
  {
   "cell_type": "markdown",
   "metadata": {},
   "source": [
    "### Config for Google Sheets\n",
    "(Only required if update_google_sheets is True)"
   ]
  },
  {
   "cell_type": "code",
   "execution_count": 3,
   "metadata": {},
   "outputs": [],
   "source": [
    "SPREADSHEET_ID = '1KIyCmEaum6YBzlri4vc-aG1EnLhowqv2MelaqtPudVg'\n",
    "KEYS_FILE = 'project-gsheets-c30a9f47e838.json'\n",
    "SHEET_NAME = \"Sheet1\"\n",
    "SCOPES = ['https://www.googleapis.com/auth/spreadsheets',\n",
    "          'https://www.googleapis.com/auth/drive'] # If modifying these scopes, delete the file token.pickle."
   ]
  },
  {
   "cell_type": "markdown",
   "metadata": {},
   "source": [
    "### More options"
   ]
  },
  {
   "cell_type": "code",
   "execution_count": 4,
   "metadata": {},
   "outputs": [],
   "source": [
    "landing_page_url = 'https://www.moh.gov.sg/covid-19/past-updates'\n",
    "date_tag = \"span\"\n",
    "secondary_link_string_to_find = \"New Cases of Locally Transmitted COVID-19 Infection\"\n",
    "pdf_string_to_find = \"Annexes\"\n",
    "pdf_table_loc_string_to_find = \"Location (Address)\"\n",
    "table_column_index_to_select = [0,3,6]\n",
    "raw_table_header = ['Date', 'Time', 'Location (Address)']\n",
    "year = '2021'\n",
    "data_dot_world_url = 'https://query.data.world/s/7xnvegtdm5t2zx4rvqmqwk3eaizs6m' # raw data to append new places to"
   ]
  },
  {
   "cell_type": "markdown",
   "metadata": {},
   "source": [
    "## Web Scraping"
   ]
  },
  {
   "cell_type": "code",
   "execution_count": 5,
   "metadata": {},
   "outputs": [],
   "source": [
    "def get_secondary_page_url(date_string):\n",
    "    landing_page = requests.get(landing_page_url)\n",
    "    landing_page_soup = BeautifulSoup(landing_page.text, \"html.parser\")\n",
    "    \n",
    "    for linebreak in landing_page_soup.find_all('br'):\n",
    "        linebreak.extract()\n",
    "        \n",
    "    date_elems_list = landing_page_soup.find_all(date_tag, text=re.compile('^.*{}.*$'.format(date_string)))\n",
    "    \n",
    "    entries_list = [elem.find_parent(\"tr\") for elem in date_elems_list if secondary_link_string_to_find in str(elem.find_parent(\"tr\"))]\n",
    "    \n",
    "    if len(entries_list) < 2:\n",
    "        return None\n",
    "    \n",
    "#     if len(entries_list) >= 2:\n",
    "    entry = entries_list[0]\n",
    "\n",
    "    secondary_page_url = entry.find(href=True).get(\"href\")\n",
    "    print(secondary_page_url)\n",
    "    \n",
    "    return secondary_page_url.strip()"
   ]
  },
  {
   "cell_type": "code",
   "execution_count": 6,
   "metadata": {},
   "outputs": [],
   "source": [
    "def get_pdf_link(date_string):\n",
    "    secondary_page_url = get_secondary_page_url(date_string)\n",
    "    \n",
    "    if not secondary_page_url:\n",
    "        print('Unable to get secondary page url for {}'.format(date_string))\n",
    "        return None\n",
    "    \n",
    "    secondary_page = requests.get(secondary_page_url)\n",
    "    secondary_page_soup = BeautifulSoup(secondary_page.text, \"html.parser\")\n",
    "\n",
    "    pdf_link = secondary_page_soup.find(\"a\", string = pdf_string_to_find).get(\"href\")\n",
    "    print(pdf_link)\n",
    "    \n",
    "    return pdf_link.strip()"
   ]
  },
  {
   "cell_type": "code",
   "execution_count": 7,
   "metadata": {
    "scrolled": false
   },
   "outputs": [],
   "source": [
    "# https://stackoverflow.com/questions/62075033/read-pdf-from-url-to-memory-omitting-saving-file-to-local-file\n",
    "\n",
    "def get_raw_data(date_string):\n",
    "    pdf_link = get_pdf_link(date_string)\n",
    "        \n",
    "    if not pdf_link:\n",
    "        print('Unable to get pdf link for {}.'.format(date_string))\n",
    "        return None, None\n",
    "        \n",
    "    http = urllib3.PoolManager()\n",
    "    temp = io.BytesIO()\n",
    "    temp.write(http.request(\"GET\", pdf_link).data)\n",
    "\n",
    "    raw_df = pd.DataFrame()\n",
    "\n",
    "    with pdfplumber.open(temp) as pdf: # pdf = pdfplumber.open(temp) \n",
    "        for pdf_page in pdf.pages:\n",
    "            table = pdf_page.extract_table()\n",
    "            if not table or pdf_table_loc_string_to_find not in table[1]:\n",
    "                continue\n",
    "            raw_df = raw_df.append(pd.DataFrame(table[3:]), ignore_index=True) \n",
    "\n",
    "    raw_df = raw_df.iloc[:, table_column_index_to_select].dropna()\n",
    "    \n",
    "    page_break_problematic_rows_idx = raw_df.index[raw_df[0]=='']\n",
    "    col_iloc = 2\n",
    "    \n",
    "    for row_idx in page_break_problematic_rows_idx:\n",
    "        value = raw_df.iloc[row_idx - 1, col_iloc] + raw_df.iloc[row_idx, col_iloc]\n",
    "        raw_df.iloc[row_idx - 1, col_iloc] = value\n",
    "    \n",
    "    raw_df = raw_df.drop(page_break_problematic_rows_idx).reset_index(drop = True)\n",
    "    \n",
    "    raw_df.columns = raw_table_header\n",
    "    return raw_df, pdf_link"
   ]
  },
  {
   "cell_type": "markdown",
   "metadata": {},
   "source": [
    "## Data Cleaning"
   ]
  },
  {
   "cell_type": "code",
   "execution_count": 8,
   "metadata": {},
   "outputs": [],
   "source": [
    "# https://github.com/hxchua/datadoubleconfirm/blob/master/notebooks/covid_public_places.py\n",
    "def clean_data(raw_df, pdf_link):\n",
    "    df = raw_df.copy(deep=True)\n",
    "    df['Location (Address)'] = df['Location (Address)'].str.replace('\\n','•')\n",
    "    df['Location (Address)'] = df['Location (Address)'].str.replace('','•')\n",
    "    df['Location (Address)'] = df['Location (Address)'].str.replace('\\n•','•')\n",
    "    df[['Location','Sub-location']] = df['Location (Address)'].str.split('•',expand=True)\n",
    "    df['Location'] = df['Location'].str.replace('\\n',' ')\n",
    "    df['Location'] = df['Location'].str.title()\n",
    "    df['Location'] = df['Location'].str.strip()\n",
    "    df['Sub-location'] = df['Sub-location'].str.replace('\\n',', ')\n",
    "    df['Sub-location'] = df['Sub-location'].str.strip()\n",
    "    df['Sub-location'] = df['Sub-location'].str.title()\n",
    "    df['Notes'] = \"Added/Updated on \" + datetime.today().strftime('%Y-%m-%d')\n",
    "    df['Source'] = pdf_link\n",
    "    df['Time'] = df['Time'].str.replace('to','-')\n",
    "\n",
    "    df['Date'] = df['Date'].str.replace(r'\\s? to \\d+', '', regex=True)\n",
    "    df['Date'] = df['Date'].str.replace('\\n','')\n",
    "    df['Date'] = (df['Date']+' {}'.format(year)).astype(str) # TODO\n",
    "    df['Date'] = df['Date'].str.replace(' ','-')\n",
    "    df['Date'] = pd.to_datetime(df['Date'],format='%d-%b-%Y')\n",
    "\n",
    "    df = df[['Date','Time','Location','Sub-location','Source','Notes']]\n",
    "\n",
    "    return df"
   ]
  },
  {
   "cell_type": "markdown",
   "metadata": {},
   "source": [
    "## Compare and get new data"
   ]
  },
  {
   "cell_type": "code",
   "execution_count": 9,
   "metadata": {},
   "outputs": [
    {
     "name": "stdout",
     "output_type": "stream",
     "text": [
      "https://www.moh.gov.sg/news-highlights/details/13-new-cases-of-locally-transmitted-covid-19-infection_26JunUpdate \n",
      "https://www.moh.gov.sg/docs/librariesprovider5/pressroom/annexes-26-jun.pdf?sfvrsn=5d9d801a_2\n",
      "https://www.moh.gov.sg/news-highlights/details/15-new-cases-of-locally-transmitted-covid-19-infection_25JunUpdate\n",
      "https://www.moh.gov.sg/docs/librariesprovider5/pressroom/annexes-25-jun.pdf?sfvrsn=b0c3657d_2\n"
     ]
    }
   ],
   "source": [
    "prev_date = (datetime.strptime(date, \"%d %b %Y\").date() - timedelta(days=1)).strftime(\"%d %b %Y\")\n",
    "\n",
    "new_raw_data, new_pdf_link = get_raw_data(date)\n",
    "old_raw_data, old_pdf_link = get_raw_data(prev_date)\n",
    "\n",
    "if not new_pdf_link or not old_pdf_link:\n",
    "    print('Data for the day is not available (yet).')\n",
    "    #return None\n",
    "    \n",
    "new_clean_data = clean_data(new_raw_data, new_pdf_link)\n",
    "old_clean_data = clean_data(old_raw_data, old_pdf_link)"
   ]
  },
  {
   "cell_type": "code",
   "execution_count": 10,
   "metadata": {
    "scrolled": false
   },
   "outputs": [
    {
     "data": {
      "text/html": [
       "<div>\n",
       "<style scoped>\n",
       "    .dataframe tbody tr th:only-of-type {\n",
       "        vertical-align: middle;\n",
       "    }\n",
       "\n",
       "    .dataframe tbody tr th {\n",
       "        vertical-align: top;\n",
       "    }\n",
       "\n",
       "    .dataframe thead th {\n",
       "        text-align: right;\n",
       "    }\n",
       "</style>\n",
       "<table border=\"1\" class=\"dataframe\">\n",
       "  <thead>\n",
       "    <tr style=\"text-align: right;\">\n",
       "      <th></th>\n",
       "      <th>Date</th>\n",
       "      <th>Time</th>\n",
       "      <th>Location</th>\n",
       "      <th>Sub-location</th>\n",
       "      <th>Source</th>\n",
       "      <th>Notes</th>\n",
       "    </tr>\n",
       "  </thead>\n",
       "  <tbody>\n",
       "    <tr>\n",
       "      <th>0</th>\n",
       "      <td>2021-06-17</td>\n",
       "      <td>1250h - 1320h</td>\n",
       "      <td>Healthy Path Spa (84 Bedok North Street 4)</td>\n",
       "      <td>None</td>\n",
       "      <td>https://www.moh.gov.sg/docs/librariesprovider5...</td>\n",
       "      <td>Added/Updated on 2021-06-27</td>\n",
       "    </tr>\n",
       "    <tr>\n",
       "      <th>1</th>\n",
       "      <td>2021-06-12</td>\n",
       "      <td>0830h - 1430h</td>\n",
       "      <td>115 Bukit Merah View Market &amp; Hawker Centre (1...</td>\n",
       "      <td>None</td>\n",
       "      <td>https://www.moh.gov.sg/docs/librariesprovider5...</td>\n",
       "      <td>Added/Updated on 2021-06-27</td>\n",
       "    </tr>\n",
       "  </tbody>\n",
       "</table>\n",
       "</div>"
      ],
      "text/plain": [
       "        Date           Time  \\\n",
       "0 2021-06-17  1250h - 1320h   \n",
       "1 2021-06-12  0830h - 1430h   \n",
       "\n",
       "                                            Location Sub-location  \\\n",
       "0         Healthy Path Spa (84 Bedok North Street 4)         None   \n",
       "1  115 Bukit Merah View Market & Hawker Centre (1...         None   \n",
       "\n",
       "                                              Source  \\\n",
       "0  https://www.moh.gov.sg/docs/librariesprovider5...   \n",
       "1  https://www.moh.gov.sg/docs/librariesprovider5...   \n",
       "\n",
       "                         Notes  \n",
       "0  Added/Updated on 2021-06-27  \n",
       "1  Added/Updated on 2021-06-27  "
      ]
     },
     "execution_count": 10,
     "metadata": {},
     "output_type": "execute_result"
    }
   ],
   "source": [
    "combined_df = new_clean_data.append(old_clean_data)\n",
    "start_date = str(datetime.strptime(date, \"%d %b %Y\").date() - timedelta(days = 14))\n",
    "\n",
    "new_fourteen_days_df = combined_df.drop_duplicates(subset=['Date', 'Time', 'Location', 'Sub-location'], keep = False, inplace = False)\n",
    "new_entries_df = new_fourteen_days_df[new_fourteen_days_df['Date'] >= start_date].sort_values(by=['Time'], ascending=True).sort_values(by=['Date'], ascending=False).reset_index(drop=True)\n",
    "\n",
    "new_entries_df"
   ]
  },
  {
   "cell_type": "markdown",
   "metadata": {},
   "source": [
    "## Combine with existing data"
   ]
  },
  {
   "cell_type": "code",
   "execution_count": 11,
   "metadata": {},
   "outputs": [],
   "source": [
    "past_data_df = pd.read_excel(data_dot_world_url)"
   ]
  },
  {
   "cell_type": "code",
   "execution_count": 12,
   "metadata": {},
   "outputs": [],
   "source": [
    "def get_updated_df(past_data_df, new_entries_df):\n",
    "    new_data_df = past_data_df.append(new_entries_df)\n",
    "    \n",
    "    new_data_df['Date'] = pd.to_datetime(new_data_df['Date'],format='%Y-%m-%d')\n",
    "    new_data_df['Location'] = new_data_df['Location'].str.title()\n",
    "    new_data_df['Sub-location'] = new_data_df['Sub-location'].str.title()\n",
    "    new_data_df = new_data_df.sort_values(by=['Time'], ascending=True).sort_values(by=['Date'], ascending=False).reset_index(drop=True)\n",
    "    \n",
    "    counts_df = new_data_df.groupby(['Date', 'Time', 'Location', 'Sub-location']).size().reset_index(name=\"counts\")\n",
    "\n",
    "    if len(counts_df[counts_df['counts'] > 1]) > 0:\n",
    "        print('There are no new additions.')\n",
    "        return past_data_df\n",
    "        \n",
    "    return new_data_df"
   ]
  },
  {
   "cell_type": "code",
   "execution_count": 13,
   "metadata": {},
   "outputs": [
    {
     "data": {
      "text/html": [
       "<div>\n",
       "<style scoped>\n",
       "    .dataframe tbody tr th:only-of-type {\n",
       "        vertical-align: middle;\n",
       "    }\n",
       "\n",
       "    .dataframe tbody tr th {\n",
       "        vertical-align: top;\n",
       "    }\n",
       "\n",
       "    .dataframe thead th {\n",
       "        text-align: right;\n",
       "    }\n",
       "</style>\n",
       "<table border=\"1\" class=\"dataframe\">\n",
       "  <thead>\n",
       "    <tr style=\"text-align: right;\">\n",
       "      <th></th>\n",
       "      <th>Date</th>\n",
       "      <th>Time</th>\n",
       "      <th>Location</th>\n",
       "      <th>Sub-location</th>\n",
       "      <th>Source</th>\n",
       "      <th>Notes</th>\n",
       "    </tr>\n",
       "  </thead>\n",
       "  <tbody>\n",
       "    <tr>\n",
       "      <th>0</th>\n",
       "      <td>2021-06-24</td>\n",
       "      <td>1400h - 1430h</td>\n",
       "      <td>Ntuc Fairprice (166 Bukit Merah Central)</td>\n",
       "      <td>NaN</td>\n",
       "      <td>https://www.moh.gov.sg/docs/librariesprovider5...</td>\n",
       "      <td>Added/Updated on 2021-06-26</td>\n",
       "    </tr>\n",
       "    <tr>\n",
       "      <th>1</th>\n",
       "      <td>2021-06-23</td>\n",
       "      <td>1425h - 1540h</td>\n",
       "      <td>Sheng Siong Supermarket (19 Serangoon North Av...</td>\n",
       "      <td>NaN</td>\n",
       "      <td>https://www.moh.gov.sg/docs/librariesprovider5...</td>\n",
       "      <td>Added/Updated on 2021-06-26</td>\n",
       "    </tr>\n",
       "    <tr>\n",
       "      <th>2</th>\n",
       "      <td>2021-06-23</td>\n",
       "      <td>1200h - 1230h</td>\n",
       "      <td>Depot Heights Shopping Centre (108 Depot Road)</td>\n",
       "      <td>Yue Hua Food Court</td>\n",
       "      <td>https://www.moh.gov.sg/docs/librariesprovider5...</td>\n",
       "      <td>Added/Updated on 2021-06-26</td>\n",
       "    </tr>\n",
       "    <tr>\n",
       "      <th>3</th>\n",
       "      <td>2021-06-22</td>\n",
       "      <td>2015h - 2200h</td>\n",
       "      <td>Courts Megastore (50 Tampines North Drive 2)</td>\n",
       "      <td>NaN</td>\n",
       "      <td>https://www.moh.gov.sg/docs/librariesprovider5...</td>\n",
       "      <td>Added/Updated on 2021-06-26</td>\n",
       "    </tr>\n",
       "    <tr>\n",
       "      <th>4</th>\n",
       "      <td>2021-06-22</td>\n",
       "      <td>2010h - 2100h</td>\n",
       "      <td>Lucky Plaza (304 Orchard Road)</td>\n",
       "      <td>J Star Mobile Electronic</td>\n",
       "      <td>https://www.moh.gov.sg/docs/librariesprovider5...</td>\n",
       "      <td>Added/Updated on 2021-06-25</td>\n",
       "    </tr>\n",
       "    <tr>\n",
       "      <th>5</th>\n",
       "      <td>2021-06-22</td>\n",
       "      <td>1750h - 2020h</td>\n",
       "      <td>Ikea Tampines (60 Tampines North Drive 2)</td>\n",
       "      <td>NaN</td>\n",
       "      <td>https://www.moh.gov.sg/docs/librariesprovider5...</td>\n",
       "      <td>Added/Updated on 2021-06-26</td>\n",
       "    </tr>\n",
       "    <tr>\n",
       "      <th>6</th>\n",
       "      <td>2021-06-22</td>\n",
       "      <td>1905h - 1940h</td>\n",
       "      <td>Plaza Singapura (68 Orchard Road)</td>\n",
       "      <td>Kopitiam</td>\n",
       "      <td>https://www.moh.gov.sg/docs/librariesprovider5...</td>\n",
       "      <td>Added/Updated on 2021-06-25</td>\n",
       "    </tr>\n",
       "    <tr>\n",
       "      <th>7</th>\n",
       "      <td>2021-06-22</td>\n",
       "      <td>1345h - 1510h</td>\n",
       "      <td>Hotel 81 Selegie (161 Selegie Road)</td>\n",
       "      <td>NaN</td>\n",
       "      <td>https://www.moh.gov.sg/docs/librariesprovider5...</td>\n",
       "      <td>Added/Updated on 2021-06-26</td>\n",
       "    </tr>\n",
       "    <tr>\n",
       "      <th>8</th>\n",
       "      <td>2021-06-22</td>\n",
       "      <td>2110h - 2145h</td>\n",
       "      <td>313@Somerset (313 Orchard Road)</td>\n",
       "      <td>NaN</td>\n",
       "      <td>https://www.moh.gov.sg/docs/librariesprovider5...</td>\n",
       "      <td>Added/Updated on 2021-06-25</td>\n",
       "    </tr>\n",
       "    <tr>\n",
       "      <th>9</th>\n",
       "      <td>2021-06-22</td>\n",
       "      <td>2145h - 2225h</td>\n",
       "      <td>Orchard Central (181 Orchard Road)</td>\n",
       "      <td>NaN</td>\n",
       "      <td>https://www.moh.gov.sg/docs/librariesprovider5...</td>\n",
       "      <td>Added/Updated on 2021-06-25</td>\n",
       "    </tr>\n",
       "  </tbody>\n",
       "</table>\n",
       "</div>"
      ],
      "text/plain": [
       "        Date           Time  \\\n",
       "0 2021-06-24  1400h - 1430h   \n",
       "1 2021-06-23  1425h - 1540h   \n",
       "2 2021-06-23  1200h - 1230h   \n",
       "3 2021-06-22  2015h - 2200h   \n",
       "4 2021-06-22  2010h - 2100h   \n",
       "5 2021-06-22  1750h - 2020h   \n",
       "6 2021-06-22  1905h - 1940h   \n",
       "7 2021-06-22  1345h - 1510h   \n",
       "8 2021-06-22  2110h - 2145h   \n",
       "9 2021-06-22  2145h - 2225h   \n",
       "\n",
       "                                            Location  \\\n",
       "0           Ntuc Fairprice (166 Bukit Merah Central)   \n",
       "1  Sheng Siong Supermarket (19 Serangoon North Av...   \n",
       "2     Depot Heights Shopping Centre (108 Depot Road)   \n",
       "3       Courts Megastore (50 Tampines North Drive 2)   \n",
       "4                     Lucky Plaza (304 Orchard Road)   \n",
       "5          Ikea Tampines (60 Tampines North Drive 2)   \n",
       "6                  Plaza Singapura (68 Orchard Road)   \n",
       "7                Hotel 81 Selegie (161 Selegie Road)   \n",
       "8                    313@Somerset (313 Orchard Road)   \n",
       "9                 Orchard Central (181 Orchard Road)   \n",
       "\n",
       "               Sub-location  \\\n",
       "0                       NaN   \n",
       "1                       NaN   \n",
       "2        Yue Hua Food Court   \n",
       "3                       NaN   \n",
       "4  J Star Mobile Electronic   \n",
       "5                       NaN   \n",
       "6                  Kopitiam   \n",
       "7                       NaN   \n",
       "8                       NaN   \n",
       "9                       NaN   \n",
       "\n",
       "                                              Source  \\\n",
       "0  https://www.moh.gov.sg/docs/librariesprovider5...   \n",
       "1  https://www.moh.gov.sg/docs/librariesprovider5...   \n",
       "2  https://www.moh.gov.sg/docs/librariesprovider5...   \n",
       "3  https://www.moh.gov.sg/docs/librariesprovider5...   \n",
       "4  https://www.moh.gov.sg/docs/librariesprovider5...   \n",
       "5  https://www.moh.gov.sg/docs/librariesprovider5...   \n",
       "6  https://www.moh.gov.sg/docs/librariesprovider5...   \n",
       "7  https://www.moh.gov.sg/docs/librariesprovider5...   \n",
       "8  https://www.moh.gov.sg/docs/librariesprovider5...   \n",
       "9  https://www.moh.gov.sg/docs/librariesprovider5...   \n",
       "\n",
       "                         Notes  \n",
       "0  Added/Updated on 2021-06-26  \n",
       "1  Added/Updated on 2021-06-26  \n",
       "2  Added/Updated on 2021-06-26  \n",
       "3  Added/Updated on 2021-06-26  \n",
       "4  Added/Updated on 2021-06-25  \n",
       "5  Added/Updated on 2021-06-26  \n",
       "6  Added/Updated on 2021-06-25  \n",
       "7  Added/Updated on 2021-06-26  \n",
       "8  Added/Updated on 2021-06-25  \n",
       "9  Added/Updated on 2021-06-25  "
      ]
     },
     "execution_count": 13,
     "metadata": {},
     "output_type": "execute_result"
    }
   ],
   "source": [
    "updated_df = get_updated_df(past_data_df, new_entries_df)\n",
    "updated_df.head(10)"
   ]
  },
  {
   "cell_type": "markdown",
   "metadata": {},
   "source": [
    "## Push new data to Google sheet"
   ]
  },
  {
   "cell_type": "code",
   "execution_count": 14,
   "metadata": {},
   "outputs": [],
   "source": [
    "if update_google_sheets:\n",
    "\n",
    "    credentials = Credentials.from_service_account_file(KEYS_FILE, scopes=SCOPES)\n",
    "    gc = gspread.authorize(credentials)\n",
    "\n",
    "    ws = gc.open_by_key(SPREADSHEET_ID).worksheet(SHEET_NAME)\n",
    "\n",
    "    updated_df['Date'] = updated_df['Date'].astype(str)\n",
    "    updated_df.fillna('', inplace=True)\n",
    "\n",
    "    ws.update([updated_df.columns.values.tolist()] + updated_df.values.tolist())"
   ]
  }
 ],
 "metadata": {
  "kernelspec": {
   "display_name": "Python 3",
   "language": "python",
   "name": "python3"
  },
  "language_info": {
   "codemirror_mode": {
    "name": "ipython",
    "version": 3
   },
   "file_extension": ".py",
   "mimetype": "text/x-python",
   "name": "python",
   "nbconvert_exporter": "python",
   "pygments_lexer": "ipython3",
   "version": "3.8.5"
  }
 },
 "nbformat": 4,
 "nbformat_minor": 4
}
